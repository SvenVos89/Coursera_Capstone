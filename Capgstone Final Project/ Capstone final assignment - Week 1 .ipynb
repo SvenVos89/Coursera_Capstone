{
    "cells": [
        {
            "metadata": {
                "collapsed": true
            },
            "cell_type": "markdown",
            "source": "# Assignment week 1\n\nNow that you have been equipped with the skills and the tools to use location data to explore a geographical location, over the course of two weeks, you will have the opportunity to be as creative as you want and come up with an idea to leverage the Foursquare location data to explore or compare neighborhoods or cities of your choice or to come up with a problem that you can use the Foursquare location data to solve. If you cannot think of an idea or a problem, here are some ideas to get you started:\n\n1. In Module 3, we explored New York City and the city of Toronto and segmented and clustered their neighborhoods. Both cities are very diverse and are the financial capitals of their respective countries. One interesting idea would be to compare the neighborhoods of the two cities and determine how similar or dissimilar they are. Is New York City more like Toronto or Paris or some other multicultural city? I will leave it to you to refine this idea.\n\n2. In a city of your choice, if someone is looking to open a restaurant, where would you recommend that they open it? Similarly, if a contractor is trying to start their own business, where would you recommend that they setup their office?\n\nThese are just a couple of many ideas and problems that can be solved using location data in addition to other datasets. No matter what you decide to do, make sure to provide sufficient justification of why you think what you want to do or solve is important and why would a client or a group of people be interested in your project.\n\n\n**For this week, you will required to submit the following:\n\n1. A description of the problem and a discussion of the background. (15 marks)\n2. A description of the data and how it will be used to solve the problem. (15 marks)"
        },
        {
            "metadata": {},
            "cell_type": "markdown",
            "source": "\n\n# **Capstone Project \u2013 The Battle of Neighborhoods - Finding the right place to live in Toronto**\n\n"
        },
        {
            "metadata": {},
            "cell_type": "markdown",
            "source": "\n**1.\tIntroduction**\n\nDeciding on which neighborhood one wants to live can have various dependent factors. For one, when buying or renting a house, most people find it important to have the right facilities surrounding where they live, be it a caf\u00e9, a school, supermarket, apothecary, theaters, many of these factors determine what \u2018the right place to live\u2019 is. \nWhen moving to another city, or moving within a large city such as Toronto, one must perform a lot of research when picking the right neighborhood to live. This project aims to help in performing this analysis, by searching for the best neighborhood in Toronto, specifically Scarborough and compare it to other neighborhoods. A selection of features can therefor be compared, such as median house price, school ratings, crime ratings, road connectivity, weather conditions, emergency management, water resources management.\nThe ultimate goal is to create awareness of the area so that people can make a better educated decision before moving to the specific neighborhood. By clustering the neighborhoods, we can create an overview of where one would possibly like to live. \nThis results in a research question \u2018how can we compare neighborhood clusters in Scarborough Toronto to give an overview of the best place to live\u2019\n\n"
        },
        {
            "metadata": {},
            "cell_type": "markdown",
            "source": "**2.\tMethod** \n\nClustering:\nIn order to compare cities for similarities, neighborhoods will be explored, segmented and grouped into clusters, to find similarities between neighborhoods. To cluster the data k-means clustering will be applied.\nUsing credentials of Foursquare API features of near-by places of the neighborhoods would be mined. Due to http request limitations the number of places per neighborhood parameter would reasonably be set to 100 and the radius parameter would be set to 500.\nThe main purpose of this project is to suggest a better neighborhood for a person to move to. It would allow for social presence in terms of like-minded people as well as connectivity to the airport, bus stand, city center, markets and other daily needs nearby. \nTherefor we will generate two lists:\n\n-\tSorted list of houses in terms of housing prices in ascending or descending order\n-\tSorted list of schools in terms of location, fees, rating and reviews\n\u2003\n\n\n"
        },
        {
            "metadata": {},
            "cell_type": "markdown",
            "source": "**3.\tData Selected**\n\nTo address the main research question, we will use two data sources. \nThe data used in the week 3 assignment will be used again \u2013 namely the Wikipedia page on postal codes in Canada: M - https://en.wikipedia.org/wiki/List_of_postal_codes_of_Canada:_M The set consists of lat-longitude and zip codes\nThe data will be compared with FourSquare data using the FS API. This will supply the data about different venues in the neighborhood. Foursquare is a location data provider with information about venues and events within an area of interest. FourSquare can provide the required data to do the analysis. \nAfter finding the list of neighborhoods, we then connect to the Foursquare API to gather information about venues inside each and every neighborhood. For each neighborhood, we have chosen the radius to be 100 meter.\nThe data retrieved from Foursquare contains information of venues within a specified distance of the longitude and latitude of the postcodes. The information obtained per venue as follows:\n1.\tNeighborhood\n2.\tNeighborhood Latitude\n3.\tNeighborhood Longitude\n4.\tVenue\n5.\tName of the venue e.g. the name of a store or restaurant\n6.\tVenue Latitude\n7.\tVenue Longitude\n8.\tVenue Category\n\nLibraries Used to develop the project:\nPandas: For creating and manipulating dataframes.\nFolium: Python visualization library would be used to visualize the neighborhoods cluster distribution of using interactive leaflet map.\nScikit Learn: For importing k-means clustering.\nJSON: Library to handle JSON files.\nXML: To separate data from presentation and XML stores data in plain text format.\nGeocoder: To retrieve Location Data.\nBeautiful Soup and Requests: To scrap and library to handle http requests.\nMatplotlib: Python Plotting Module."
        }
    ],
    "metadata": {
        "kernelspec": {
            "name": "python3",
            "display_name": "Python 3.6",
            "language": "python"
        },
        "language_info": {
            "name": "python",
            "version": "3.6.9",
            "mimetype": "text/x-python",
            "codemirror_mode": {
                "name": "ipython",
                "version": 3
            },
            "pygments_lexer": "ipython3",
            "nbconvert_exporter": "python",
            "file_extension": ".py"
        }
    },
    "nbformat": 4,
    "nbformat_minor": 1
}