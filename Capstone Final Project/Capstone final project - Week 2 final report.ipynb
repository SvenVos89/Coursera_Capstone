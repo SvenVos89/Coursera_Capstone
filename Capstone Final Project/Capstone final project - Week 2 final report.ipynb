{
    "cells": [
        {
            "cell_type": "markdown",
            "metadata": {
                "collapsed": true
            },
            "source": "# Assignment week 1\n\nIn this week, you will continue working on your capstone project. Please remember by the end of this week, you will need to submit the following:\n\n1. A full report consisting of all of the following components (15 marks):\n\n*Introduction* where you discuss the business problem and who would be interested in this project.\n\n*Data* where you describe the data that will be used to solve the problem and the source of the data.\n\n*Methodology* section which represents the main component of the report where you discuss and describe any exploratory data analysis that you did, any inferential statistical testing that you performed, if any, and what machine learnings were used and why.\n\n*Results* section where you discuss the results.\n\n*Discussion section*  where you discuss any observations you noted and any recommendations you can make based on the results.\n\n*Conclusion section* where you conclude the report.\n\n2. A link to your Notebook on your Github repository pushed showing your code. (15 marks)\n\n3. Your choice of a presentation or blogpost. (10 marks)"
        },
        {
            "cell_type": "markdown",
            "metadata": {},
            "source": "# **Capstone Project \u2013 The Battle of Neighborhoods - Finding the right place to live in Toronto**\n"
        },
        {
            "cell_type": "markdown",
            "metadata": {},
            "source": "\n**1.\tIntroduction**\n\nDeciding on which neighborhood one wants to live can have various dependent factors. For one, when buying or renting a house, most people find it important to have the right facilities surrounding where they live, be it a caf\u00e9, a school, supermarket, apothecary, theaters, many of these factors determine what \u2018the right place to live\u2019 is. \n\nWhen moving to another city, or moving within a large city such as Toronto, one must perform a lot of research when picking the right neighborhood to live. This project aims to help in performing this analysis, by searching for the best neighborhood in Toronto, specifically Scarborough and compare it to other neighborhoods. A selection of features can therefor be compared, such as median house price, school ratings, crime ratings, road connectivity, weather conditions, emergency management, water resources management.\nThe ultimate goal is to create awareness of the area so that people can make a better educated decision before moving to the specific neighborhood. By clustering the neighborhoods based on venue information, we can create an overview of where one would possibly like to live. It should lead to clusters of 'similar boroughs'.  \n\nThis results in a research question \u2018how can we compare neighborhood clusters in Scarborough Toronto to give an overview of similar places to live and compare this to average house prices and school ratings\u2019\n\n"
        },
        {
            "cell_type": "markdown",
            "metadata": {},
            "source": "**2.\tData Selected**\n\nTo address the main research question, we will use two data sources. \nThe data used in the week 3 assignment will be used again \u2013 namely the Wikipedia page on postal codes in Canada: M - https://en.wikipedia.org/wiki/List_of_postal_codes_of_Canada:_M The set consists of lat-longitude and zip codes\nThe data will be compared with FourSquare data using the FS API. This will supply the data about different venues in the neighborhood. Foursquare is a location data provider with information about venues and events within an area of interest. FourSquare can provide the required data to do the analysis. \nAfter finding the list of neighborhoods, we then connect to the Foursquare API to gather information about venues inside each and every neighborhood. For each neighborhood, we have chosen the radius to be 100 meter as this is relatively close by the place you would live.\nThe data retrieved from Foursquare contains information of venues within a specified distance of the longitude and latitude of the postcodes. The information obtained per venue as follows:\n1.\tNeighborhood\n2.\tNeighborhood Latitude\n3.\tNeighborhood Longitude\n4.\tVenue\n5.\tName of the venue e.g. the name of a store or restaurant\n6.\tVenue Latitude\n7.\tVenue Longitude\n8.\tVenue Category\n\nLibraries Used to develop the project:\nPandas: For creating and manipulating dataframes.\nFolium: Python visualization library would be used to visualize the neighborhoods cluster distribution of using interactive leaflet map.\nScikit Learn: For importing k-means clustering.\nJSON: Library to handle JSON files.\nXML: To separate data from presentation and XML stores data in plain text format.\nGeocoder: To retrieve Location Data.\nBeautiful Soup and Requests: To scrap and library to handle http requests.\nMatplotlib: Python Plotting Module."
        },
        {
            "cell_type": "markdown",
            "metadata": {},
            "source": "**3.\tMethod**  (Week 2)\n\nClustering:\nIn order to compare boroughs for similarities, neighborhoods will be explored, segmented and grouped into clusters, to find similarities between neighborhoods. To cluster the data k-means clustering will be applied.\nUsing credentials of Foursquare API features of near-by places of the neighborhoods would be mined. Due to http request limitations the number of places per neighborhood parameter would reasonably be set to 100 and the radius parameter would be set to 500.\nThe main purpose of this project is to suggest a better neighborhood for a person to move to. It would allow for social presence in terms of like-minded people as well as connectivity to the airport, bus stand, city center, markets and other daily needs nearby. \nTherefor we will generate two bar charts:\n\n-\tBar chart of average house prices according to their boroughs\n-\tBar chart of average school ratings according to their boroughs\n\u2003\n These bar charts accompanied by clustered boroughs should provide the user with the ability to make more educated decisions on their future place to live. \n\n\n"
        },
        {
            "cell_type": "markdown",
            "metadata": {},
            "source": "**4.\tResults**  (Week 2)\n\nFind three results in the notebook - \n\n**Result 1:** A map with 3 polotted clusters of _similar_ neighborhoods in Scarborough Toronto based on the most common venues in a radius of 100 meters surrounding the lat-lon point of the postal code\n\n**Result 2:** A graph of mean house prices of the boroughs in Scarborough Toronto\n\n**Result 3:** A graph of mean school ratings of the boroughs in Scarborough Toronto\n\nWith these three results the user of the tool can simplify their research of finding a new place to live in Scarborough Toronto. The user can compare the clustered boroughs with the house price and school ratings, according to their preferences. \n\nWe see for instance that Cedarbrae scores a 10 on school rating but has a below-average house price. An interesting finding that a user can use in their search for a new house. \n"
        },
        {
            "cell_type": "markdown",
            "metadata": {},
            "source": "**5.\tDiscussion Section**  (Week 2)\n\nA tool was created to cluster boroughs in Scarborough Toronto based on sinmilar venues in a 100m radius of the borough. K-means is an effective mean to cluster and one-hot coding was used to train the model in a sufficient way. As discussed in the result session, the user can now look for high-rated v. low priced boroughs to live. \n\nOf course one must remember that there are many more apsects determining the livability of a borough and that 'having venues nearby' does not specifically mean it is the 'type of venue' that the user is looking for. It is a good indicator, but in future research I would recommend adding more indicators such as average income, number of inhabitants, or healthcare scores for instance. Also, I would advice to link these data in the K-means clusters to train the model even further. Preferably the model returns clusters based on all these factor and make a better recommendation. \n\n\n"
        },
        {
            "cell_type": "markdown",
            "metadata": {},
            "source": "**6.\tConclusion Section**  (Week 2)\n\nConcluding - yes a model can be created to make a recommendation on where to live in Scarborough Toronto, also additional information can be generated such as house price and school rating to further assist in the decision making of the user of the model. Further research is adviced to further develop the model though. \n"
        },
        {
            "cell_type": "code",
            "execution_count": null,
            "metadata": {},
            "outputs": [],
            "source": ""
        },
        {
            "cell_type": "code",
            "execution_count": null,
            "metadata": {},
            "outputs": [],
            "source": ""
        }
    ],
    "metadata": {
        "kernelspec": {
            "display_name": "Python 3.6",
            "language": "python",
            "name": "python3"
        },
        "language_info": {
            "codemirror_mode": {
                "name": "ipython",
                "version": 3
            },
            "file_extension": ".py",
            "mimetype": "text/x-python",
            "name": "python",
            "nbconvert_exporter": "python",
            "pygments_lexer": "ipython3",
            "version": "3.6.9"
        }
    },
    "nbformat": 4,
    "nbformat_minor": 1
}